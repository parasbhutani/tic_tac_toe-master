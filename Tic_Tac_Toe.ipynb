{
 "cells": [
  {
   "cell_type": "code",
   "execution_count": 1,
   "metadata": {},
   "outputs": [],
   "source": [
    "from IPython.display import clear_output\n",
    "board=['x']*10\n",
    "def display_board(board):\n",
    "    clear_output()\n",
    "    \n",
    "    print('   |    |   ')\n",
    "    print(' '+ board[1]+' |'+' '+board[2]+'  |'+' '+board[3]+' ')\n",
    "    print('   |    |   ')\n",
    "    print('-------------')\n",
    "    print('   |    |   ')\n",
    "    print(' '+board[4]+' |'+' '+board[5]+'  |'+' '+board[6]+' ')\n",
    "    print('   |    |   ')\n",
    "    print('-------------')\n",
    "    print('   |    |   ')\n",
    "    print(' '+board[7]+' |'+' '+board[8]+'  |'+' '+board[9]+' ')\n",
    "    print('   |    |   ')"
   ]
  },
  {
   "cell_type": "code",
   "execution_count": 2,
   "metadata": {},
   "outputs": [],
   "source": [
    "def player_input():\n",
    "    marker=''\n",
    "    while not (marker=='O' or marker=='X'):\n",
    "        marker = input('do you want to insert X or O ?').upper()\n",
    "        \n",
    "    if marker=='O':\n",
    "        return ('X','O')\n",
    "    else:\n",
    "        return ('O','X')"
   ]
  },
  {
   "cell_type": "code",
   "execution_count": 3,
   "metadata": {},
   "outputs": [],
   "source": [
    "def place_marker(board,marker,position):\n",
    "    if(space_check):\n",
    "        board[position]=marker"
   ]
  },
  {
   "cell_type": "code",
   "execution_count": 4,
   "metadata": {},
   "outputs": [],
   "source": [
    "def win_check(board,mark):\n",
    "    return ((board[7]==mark and board[8]==mark and board[9]==mark) or\n",
    "     (board[4]==mark and board[5]==mark and board[6]==mark) or\n",
    "     (board[1]==mark and board[2]==mark and board[3]==mark) or\n",
    "    (board[7]==mark and board[4]==mark and board[1]==mark) or\n",
    "    (board[8]==mark and board[5]==mark and board[2]==mark) or\n",
    "    (board[9]==mark and board[6]==mark and board[3]==mark) or\n",
    "    (board[7]==mark and board[5]==mark and board[3]==mark) or\n",
    "    (board[9]==mark and board[5]==mark and board[1]==mark))"
   ]
  },
  {
   "cell_type": "code",
   "execution_count": 5,
   "metadata": {},
   "outputs": [],
   "source": [
    "import random\n",
    "def choose_first():\n",
    "    if random.randint(0,1)==0:\n",
    "        return 'player 1'\n",
    "    else:\n",
    "        return 'player 2'"
   ]
  },
  {
   "cell_type": "code",
   "execution_count": 6,
   "metadata": {},
   "outputs": [],
   "source": [
    "def space_check(board,position):\n",
    "    return board[position] == ' '\n"
   ]
  },
  {
   "cell_type": "code",
   "execution_count": 7,
   "metadata": {},
   "outputs": [],
   "source": [
    "def full_board_check(board):\n",
    "    for i in range(1,10):\n",
    "        if(space_check(board,i)):\n",
    "            return False\n",
    "    return True"
   ]
  },
  {
   "cell_type": "code",
   "execution_count": 8,
   "metadata": {},
   "outputs": [],
   "source": [
    "def player_choice(board):\n",
    "    l=['1','2','3','4','5','6','7','8','9']\n",
    "    a=True\n",
    "    while a:\n",
    "        position=input('select your position b/w 1 to 9:')\n",
    "        if position in l and  space_check(board,int(position)):\n",
    "            a=False\n",
    "            return int(position)\n",
    "        else:\n",
    "            print('enter a valid position')"
   ]
  },
  {
   "cell_type": "code",
   "execution_count": 9,
   "metadata": {},
   "outputs": [],
   "source": [
    "def replay():\n",
    "    return input('do you want to play again? enter yes or no\\n').lower().startswith('y')"
   ]
  },
  {
   "cell_type": "code",
   "execution_count": null,
   "metadata": {},
   "outputs": [
    {
     "name": "stdout",
     "output_type": "stream",
     "text": [
      "   |    |   \n",
      " X | O  |   \n",
      "   |    |   \n",
      "-------------\n",
      "   |    |   \n",
      " O | X  |   \n",
      "   |    |   \n",
      "-------------\n",
      "   |    |   \n",
      "   |    | X \n",
      "   |    |   \n",
      "Congratulations! player2 you  won!\n",
      "\n"
     ]
    }
   ],
   "source": [
    "print('Welcome to Tic Tac Toe!\\n')\n",
    "\n",
    "while True:\n",
    "    # Reset the board\n",
    "    theBoard = [' '] * 10\n",
    "    player1_marker, player2_marker = player_input()\n",
    "    turn = choose_first()\n",
    "    print(turn + ' will go first.')\n",
    "    game_on = True\n",
    "\n",
    "    while game_on:\n",
    "        if turn == 'Player 1':\n",
    "            # Player1's turn.\n",
    "            \n",
    "            display_board(theBoard)\n",
    "            position = player_choice(theBoard)\n",
    "            place_marker(theBoard, player1_marker, position)\n",
    "\n",
    "            if win_check(theBoard, player1_marker):\n",
    "                display_board(theBoard)\n",
    "                print('Congratulations! you won the game!\\n')\n",
    "                game_on = False\n",
    "            else:\n",
    "                if full_board_check(theBoard):\n",
    "                    display_board(theBoard)\n",
    "                    print('The game is a tie!\\n')\n",
    "                    break\n",
    "                else:\n",
    "                    turn = 'Player 2'\n",
    "\n",
    "        else:\n",
    "            # Player2's turn.\n",
    "            \n",
    "            display_board(theBoard)\n",
    "            position = player_choice(theBoard)\n",
    "            place_marker(theBoard, player2_marker, position)\n",
    "            #display_board(theBoard)\n",
    "\n",
    "            if win_check(theBoard, player2_marker):\n",
    "                display_board(theBoard)\n",
    "                print('Congratulations! you  won!\\n')\n",
    "                game_on = False\n",
    "               \n",
    "            else:\n",
    "                if full_board_check(theBoard):\n",
    "                    display_board(theBoard)\n",
    "                    print('The game is a tie!\\n')\n",
    "                    break\n",
    "                else:\n",
    "                    turn = 'Player 1'\n",
    "\n",
    "    if not replay():\n",
    "        print(\"thanks for playing :)\")\n",
    "        break"
   ]
  }
 ],
 "metadata": {
  "kernelspec": {
   "display_name": "Python 3",
   "language": "python",
   "name": "python3"
  },
  "language_info": {
   "codemirror_mode": {
    "name": "ipython",
    "version": 3
   },
   "file_extension": ".py",
   "mimetype": "text/x-python",
   "name": "python",
   "nbconvert_exporter": "python",
   "pygments_lexer": "ipython3",
   "version": "3.7.3"
  }
 },
 "nbformat": 4,
 "nbformat_minor": 2
}
